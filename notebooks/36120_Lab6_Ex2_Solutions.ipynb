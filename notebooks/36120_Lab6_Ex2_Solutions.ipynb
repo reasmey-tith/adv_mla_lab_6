{
 "cells": [
  {
   "cell_type": "markdown",
   "metadata": {
    "id": "uQ6wc2HE0pke"
   },
   "source": [
    "# **Lab: Model Interpretation**\n"
   ]
  },
  {
   "cell_type": "markdown",
   "metadata": {
    "id": "tQgxLRrvjiJb"
   },
   "source": [
    "## Exercise 2: LighGBM\n",
    "\n",
    "We will train a Lightgbm model on the same dataset as previously.\n",
    "\n",
    "The steps are:\n",
    "1.   Create new Git branch\n",
    "2.   Load the dataset\n",
    "3.   Train Lightgbms model with default hyperparameter\n",
    "4.   Hyperparameter tuning\n",
    "5.   Push changes\n"
   ]
  },
  {
   "cell_type": "markdown",
   "metadata": {
    "id": "smh_LhVjIg9s",
    "jp-MarkdownHeadingCollapsed": true
   },
   "source": [
    "### 1.   Create new Git branch\n"
   ]
  },
  {
   "cell_type": "markdown",
   "metadata": {
    "id": "P7KRLjcRn2d4"
   },
   "source": [
    "**[1.1]** Create a new git branch called `adv_mla_6_lightgbm`\n"
   ]
  },
  {
   "cell_type": "code",
   "execution_count": null,
   "metadata": {
    "id": "xBNTTx7UAVCV"
   },
   "outputs": [],
   "source": [
    "# Placeholder for student's code (command line)"
   ]
  },
  {
   "cell_type": "code",
   "execution_count": null,
   "metadata": {
    "id": "hsv0dkk1n7Bg"
   },
   "outputs": [],
   "source": [
    "# Solution:\n",
    "git checkout -b adv_mla_6_lightgbm"
   ]
  },
  {
   "cell_type": "markdown",
   "metadata": {
    "id": "urrLvZmTUX23"
   },
   "source": [
    "**[1.2]** Launch Jupyter Lab from your virtual environment"
   ]
  },
  {
   "cell_type": "code",
   "execution_count": null,
   "metadata": {
    "id": "eMou7Dgc-5wP"
   },
   "outputs": [],
   "source": [
    "# Placeholder for student's code (command line)"
   ]
  },
  {
   "cell_type": "code",
   "execution_count": null,
   "metadata": {
    "id": "nDAwl-fSVgIe"
   },
   "outputs": [],
   "source": [
    "# Solution:\n",
    "poetry run jupyter lab"
   ]
  },
  {
   "cell_type": "markdown",
   "metadata": {
    "id": "yTjwF_joDWnE"
   },
   "source": [
    "**[1.3]** Navigate the folder `notebooks` and create a new jupyter notebook called `2_xgboost_hyperopt.ipynb`"
   ]
  },
  {
   "cell_type": "markdown",
   "metadata": {
    "id": "_NCwQQFkU3v5",
    "jp-MarkdownHeadingCollapsed": true
   },
   "source": [
    "### 2. Load the dataset"
   ]
  },
  {
   "cell_type": "markdown",
   "metadata": {
    "id": "vytT3CiGGhwV"
   },
   "source": [
    "**[2.1]** Launch magic commands to automatically reload modules"
   ]
  },
  {
   "cell_type": "code",
   "execution_count": null,
   "metadata": {
    "id": "NULpxSPDGiDX"
   },
   "outputs": [],
   "source": [
    "# Placeholder for student's code (Python code)"
   ]
  },
  {
   "cell_type": "code",
   "execution_count": 1,
   "metadata": {
    "id": "7lmjpS8cGiIN",
    "tags": []
   },
   "outputs": [],
   "source": [
    "# Solution\n",
    "%load_ext autoreload\n",
    "%autoreload 2"
   ]
  },
  {
   "cell_type": "markdown",
   "metadata": {
    "id": "P3BmYiz_GqT6"
   },
   "source": [
    "**[2.2]** Import the pandas, numpy packages and dump from joblib"
   ]
  },
  {
   "cell_type": "code",
   "execution_count": null,
   "metadata": {
    "id": "HdF68B6aGqZL"
   },
   "outputs": [],
   "source": [
    "# Placeholder for student's code (Python code)"
   ]
  },
  {
   "cell_type": "code",
   "execution_count": 2,
   "metadata": {
    "id": "J_g9ype8Gqc-",
    "tags": []
   },
   "outputs": [],
   "source": [
    "# Solution\n",
    "import pandas as pd\n",
    "import numpy as np\n",
    "from joblib import dump"
   ]
  },
  {
   "cell_type": "markdown",
   "metadata": {
    "id": "4JI0kZJxpkoK"
   },
   "source": [
    "**[2.3]** Import the `load_sets()` function from your custom package"
   ]
  },
  {
   "cell_type": "code",
   "execution_count": null,
   "metadata": {
    "id": "85PHb6M7p57j"
   },
   "outputs": [],
   "source": [
    "# Placeholder for student's code (Python code)"
   ]
  },
  {
   "cell_type": "code",
   "execution_count": 3,
   "metadata": {
    "id": "1sXpjWA8pz0q",
    "tags": []
   },
   "outputs": [],
   "source": [
    "# Solution\n",
    "from my_krml_studentid.data.sets import load_sets"
   ]
  },
  {
   "cell_type": "markdown",
   "metadata": {
    "id": "R-Zy6Oq8pkuB"
   },
   "source": [
    "**[2.4]** Load the saved sets from `data/processed`"
   ]
  },
  {
   "cell_type": "code",
   "execution_count": null,
   "metadata": {
    "id": "ZresJIasqpgH"
   },
   "outputs": [],
   "source": [
    "# Placeholder for student's code (Python code)"
   ]
  },
  {
   "cell_type": "code",
   "execution_count": 4,
   "metadata": {
    "id": "Q1iETWjDftMg",
    "tags": []
   },
   "outputs": [],
   "source": [
    "#Solution:\n",
    "X_train, y_train, X_val, y_val, X_test, y_test = load_sets(path='../data/processed/')"
   ]
  },
  {
   "cell_type": "markdown",
   "metadata": {
    "id": "K_m-WMllhVqG"
   },
   "source": [
    "# 3. Train LightGBM model"
   ]
  },
  {
   "cell_type": "markdown",
   "metadata": {
    "id": "ImPSPeLcQrS5"
   },
   "source": [
    "**[3.1]** Import the xgboost package as xgb\n"
   ]
  },
  {
   "cell_type": "code",
   "execution_count": null,
   "metadata": {
    "id": "Oqu0mLfnQrZX"
   },
   "outputs": [],
   "source": [
    "# Placeholder for student's code (Python code)"
   ]
  },
  {
   "cell_type": "code",
   "execution_count": 6,
   "metadata": {
    "id": "hh2wmK9wQrcB",
    "tags": []
   },
   "outputs": [],
   "source": [
    "# Solution:\n",
    "import lightgbm as lgb"
   ]
  },
  {
   "cell_type": "markdown",
   "metadata": {
    "id": "m00Ks05tQsJb"
   },
   "source": [
    "**[3.2]** Instantiate the LGBMClassifier class into a variable called `clf` with random_state=8"
   ]
  },
  {
   "cell_type": "code",
   "execution_count": null,
   "metadata": {
    "id": "x--MSD6_QsRV"
   },
   "outputs": [],
   "source": [
    "# Placeholder for student's code (Python code)"
   ]
  },
  {
   "cell_type": "code",
   "execution_count": 7,
   "metadata": {
    "id": "oijeWjaIQsT9",
    "tags": []
   },
   "outputs": [],
   "source": [
    "# Solution\n",
    "clf = lgb.LGBMClassifier()"
   ]
  },
  {
   "cell_type": "markdown",
   "metadata": {
    "id": "Ao86WklhRj-F"
   },
   "source": [
    "**[3.3]** Import the function `fit_assess_classifier` from your custom package"
   ]
  },
  {
   "cell_type": "code",
   "execution_count": null,
   "metadata": {
    "id": "lMXMIkJHRkHz"
   },
   "outputs": [],
   "source": [
    "# Placeholder for student's code (Python code)"
   ]
  },
  {
   "cell_type": "code",
   "execution_count": 8,
   "metadata": {
    "id": "rprce0GGRkKb",
    "tags": []
   },
   "outputs": [],
   "source": [
    "# Solution\n",
    "from my_krml_studentid.models.performance import fit_assess_classifier"
   ]
  },
  {
   "cell_type": "markdown",
   "metadata": {
    "id": "2TIejzV-IV7g"
   },
   "source": [
    "**[3.4]** Fit the model and display its performance on the training and validation sets"
   ]
  },
  {
   "cell_type": "code",
   "execution_count": null,
   "metadata": {
    "id": "Id_Bxy3YIWBS"
   },
   "outputs": [],
   "source": [
    "# Placeholder for student's code (Python code)"
   ]
  },
  {
   "cell_type": "code",
   "execution_count": 12,
   "metadata": {
    "id": "lt4gAHbynz07",
    "tags": []
   },
   "outputs": [
    {
     "name": "stdout",
     "output_type": "stream",
     "text": [
      "[LightGBM] [Info] Auto-choosing row-wise multi-threading, the overhead of testing was 0.004039 seconds.\n",
      "You can set `force_row_wise=true` to remove the overhead.\n",
      "And if memory is not enough, you can set `force_col_wise=true`.\n",
      "[LightGBM] [Info] Total Bins 1426\n",
      "[LightGBM] [Info] Number of data points in the train set: 142795, number of used features: 24\n",
      "[LightGBM] [Info] Start training from score -1.205363\n",
      "[LightGBM] [Info] Start training from score -1.063080\n",
      "[LightGBM] [Info] Start training from score -1.130706\n",
      "[LightGBM] [Info] Start training from score -3.435136\n",
      "Accuracy Training: 0.9127070275569873\n",
      "F1 Training: 0.9122539839313584\n",
      "Accuracy Validation: 0.9065316498245761\n",
      "F1 Validation: 0.9059793760877006\n"
     ]
    }
   ],
   "source": [
    "# Solution\n",
    "lightgbm = fit_assess_classifier(clf, X_train, y_train, X_val, y_val)"
   ]
  },
  {
   "cell_type": "markdown",
   "metadata": {
    "id": "LZFys_bhRtu-"
   },
   "source": [
    "**[3.5]** Import `dump` from `joblib` and save the fitted model into the folder `models` as a file called `xgboost_default`"
   ]
  },
  {
   "cell_type": "code",
   "execution_count": null,
   "metadata": {
    "id": "QzHfn9UORt2e"
   },
   "outputs": [],
   "source": [
    "# Placeholder for student's code (Python code)"
   ]
  },
  {
   "cell_type": "code",
   "execution_count": 13,
   "metadata": {
    "id": "3Yn_xbLxRt4y",
    "tags": []
   },
   "outputs": [
    {
     "data": {
      "text/plain": [
       "['../models/lightgbm_default.joblib']"
      ]
     },
     "execution_count": 13,
     "metadata": {},
     "output_type": "execute_result"
    }
   ],
   "source": [
    "# Solution:\n",
    "from joblib import dump\n",
    "\n",
    "dump(lightgbm,  '../models/lightgbm_default.joblib')"
   ]
  },
  {
   "cell_type": "markdown",
   "metadata": {
    "id": "MoU-4xkAwXeg"
   },
   "source": [
    "### 4. Hyperparameter tuning with `n_estimators` (`num_boost_round`)"
   ]
  },
  {
   "cell_type": "markdown",
   "metadata": {
    "id": "h8_1y9IHwXnM"
   },
   "source": [
    "**[4.1]** Assess the performance of lightGBM with `n_estimators` = 200"
   ]
  },
  {
   "cell_type": "code",
   "execution_count": null,
   "metadata": {
    "id": "VJGuzojpwXus"
   },
   "outputs": [],
   "source": [
    "# Placeholder for student's code (Python code)"
   ]
  },
  {
   "cell_type": "code",
   "execution_count": 14,
   "metadata": {
    "id": "lRndcJ2nxjp4",
    "tags": []
   },
   "outputs": [
    {
     "name": "stdout",
     "output_type": "stream",
     "text": [
      "[LightGBM] [Info] Auto-choosing row-wise multi-threading, the overhead of testing was 0.003859 seconds.\n",
      "You can set `force_row_wise=true` to remove the overhead.\n",
      "And if memory is not enough, you can set `force_col_wise=true`.\n",
      "[LightGBM] [Info] Total Bins 1426\n",
      "[LightGBM] [Info] Number of data points in the train set: 142795, number of used features: 24\n",
      "[LightGBM] [Info] Start training from score -1.205363\n",
      "[LightGBM] [Info] Start training from score -1.063080\n",
      "[LightGBM] [Info] Start training from score -1.130706\n",
      "[LightGBM] [Info] Start training from score -3.435136\n",
      "Accuracy Training: 0.9218249938723345\n",
      "F1 Training: 0.9215295320126403\n",
      "Accuracy Validation: 0.9063005525326162\n",
      "F1 Validation: 0.9058181108995103\n"
     ]
    }
   ],
   "source": [
    "# Solution:\n",
    "lightgbm1 = fit_assess_classifier(lgb.LGBMClassifier(n_estimators=200), X_train, y_train, X_val, y_val)"
   ]
  },
  {
   "cell_type": "markdown",
   "metadata": {
    "id": "Mck4PVDTxt9T"
   },
   "source": [
    "**[4.2]** Assess the performance of lightGBM with `n_estimators` = 50"
   ]
  },
  {
   "cell_type": "code",
   "execution_count": null,
   "metadata": {
    "id": "Pa87RGIlldMH"
   },
   "outputs": [],
   "source": [
    "# Placeholder for student's code (Python code)"
   ]
  },
  {
   "cell_type": "code",
   "execution_count": 15,
   "metadata": {
    "id": "laZLSZYsxuEh",
    "tags": []
   },
   "outputs": [
    {
     "name": "stdout",
     "output_type": "stream",
     "text": [
      "[LightGBM] [Info] Auto-choosing row-wise multi-threading, the overhead of testing was 0.003971 seconds.\n",
      "You can set `force_row_wise=true` to remove the overhead.\n",
      "And if memory is not enough, you can set `force_col_wise=true`.\n",
      "[LightGBM] [Info] Total Bins 1426\n",
      "[LightGBM] [Info] Number of data points in the train set: 142795, number of used features: 24\n",
      "[LightGBM] [Info] Start training from score -1.205363\n",
      "[LightGBM] [Info] Start training from score -1.063080\n",
      "[LightGBM] [Info] Start training from score -1.130706\n",
      "[LightGBM] [Info] Start training from score -3.435136\n",
      "Accuracy Training: 0.9077418677124549\n",
      "F1 Training: 0.9072158210448226\n",
      "Accuracy Validation: 0.9051870837622639\n",
      "F1 Validation: 0.9045544548424002\n"
     ]
    }
   ],
   "source": [
    "# Solution:\n",
    "lightgbm2 = fit_assess_classifier(lgb.LGBMClassifier(n_estimators=50), X_train, y_train, X_val, y_val)"
   ]
  },
  {
   "cell_type": "markdown",
   "metadata": {
    "id": "8M9Aktt4xyEY"
   },
   "source": [
    "**[4.3]** Assess the performance of lightGBM with `n_estimators` = 75"
   ]
  },
  {
   "cell_type": "code",
   "execution_count": null,
   "metadata": {
    "id": "s4aYuQhpxynj"
   },
   "outputs": [],
   "source": [
    "# Placeholder for student's code (Python code)"
   ]
  },
  {
   "cell_type": "code",
   "execution_count": 16,
   "metadata": {
    "id": "yF8I9wCzxuHV",
    "tags": []
   },
   "outputs": [
    {
     "name": "stdout",
     "output_type": "stream",
     "text": [
      "[LightGBM] [Info] Auto-choosing row-wise multi-threading, the overhead of testing was 0.003708 seconds.\n",
      "You can set `force_row_wise=true` to remove the overhead.\n",
      "And if memory is not enough, you can set `force_col_wise=true`.\n",
      "[LightGBM] [Info] Total Bins 1426\n",
      "[LightGBM] [Info] Number of data points in the train set: 142795, number of used features: 24\n",
      "[LightGBM] [Info] Start training from score -1.205363\n",
      "[LightGBM] [Info] Start training from score -1.063080\n",
      "[LightGBM] [Info] Start training from score -1.130706\n",
      "[LightGBM] [Info] Start training from score -3.435136\n",
      "Accuracy Training: 0.9103750131307119\n",
      "F1 Training: 0.9098951454717765\n",
      "Accuracy Validation: 0.9061114729301035\n",
      "F1 Validation: 0.9055549228677523\n"
     ]
    }
   ],
   "source": [
    "# Solution:\n",
    "lightgbm3 = fit_assess_classifier(lgb.LGBMClassifier(n_estimators=75), X_train, y_train, X_val, y_val)"
   ]
  },
  {
   "cell_type": "markdown",
   "metadata": {
    "id": "A_ClL57Vzz2e"
   },
   "source": [
    "### 5. Hyperparameter tuning with `num_leaves`"
   ]
  },
  {
   "cell_type": "markdown",
   "metadata": {
    "id": "yvlWIZUmldMH"
   },
   "source": [
    "**[5.1]** Assess the performance of lightGBM with `n_estimators` = 50 and `num_leaves` = 50"
   ]
  },
  {
   "cell_type": "code",
   "execution_count": null,
   "metadata": {
    "id": "wjFKhThNldMH"
   },
   "outputs": [],
   "source": [
    "# Placeholder for student's code (Python code)"
   ]
  },
  {
   "cell_type": "code",
   "execution_count": 17,
   "metadata": {
    "id": "Tj22kb4lz0AY",
    "tags": []
   },
   "outputs": [
    {
     "name": "stdout",
     "output_type": "stream",
     "text": [
      "[LightGBM] [Info] Auto-choosing row-wise multi-threading, the overhead of testing was 0.003692 seconds.\n",
      "You can set `force_row_wise=true` to remove the overhead.\n",
      "And if memory is not enough, you can set `force_col_wise=true`.\n",
      "[LightGBM] [Info] Total Bins 1426\n",
      "[LightGBM] [Info] Number of data points in the train set: 142795, number of used features: 24\n",
      "[LightGBM] [Info] Start training from score -1.205363\n",
      "[LightGBM] [Info] Start training from score -1.063080\n",
      "[LightGBM] [Info] Start training from score -1.130706\n",
      "[LightGBM] [Info] Start training from score -3.435136\n",
      "Accuracy Training: 0.9113904548478589\n",
      "F1 Training: 0.910997516400859\n",
      "Accuracy Validation: 0.906594676358747\n",
      "F1 Validation: 0.9060976538426337\n"
     ]
    }
   ],
   "source": [
    "# Solution:\n",
    "lightgbm4 = fit_assess_classifier(lgb.LGBMClassifier(n_estimators=50, num_leaves=50), X_train, y_train, X_val, y_val)"
   ]
  },
  {
   "cell_type": "markdown",
   "metadata": {
    "id": "gJm3Scgp0AMy"
   },
   "source": [
    "**[5.2]** Assess the performance of lightGBM with `n_estimators` = 100 and `num_leaves` = 25"
   ]
  },
  {
   "cell_type": "code",
   "execution_count": null,
   "metadata": {
    "id": "tfio_97p0AS8"
   },
   "outputs": [],
   "source": [
    "# Placeholder for student's code (Python code)"
   ]
  },
  {
   "cell_type": "code",
   "execution_count": 18,
   "metadata": {
    "id": "uIBz96z20AVw",
    "tags": []
   },
   "outputs": [
    {
     "name": "stdout",
     "output_type": "stream",
     "text": [
      "[LightGBM] [Info] Auto-choosing row-wise multi-threading, the overhead of testing was 0.003799 seconds.\n",
      "You can set `force_row_wise=true` to remove the overhead.\n",
      "And if memory is not enough, you can set `force_col_wise=true`.\n",
      "[LightGBM] [Info] Total Bins 1426\n",
      "[LightGBM] [Info] Number of data points in the train set: 142795, number of used features: 24\n",
      "[LightGBM] [Info] Start training from score -1.205363\n",
      "[LightGBM] [Info] Start training from score -1.063080\n",
      "[LightGBM] [Info] Start training from score -1.130706\n",
      "[LightGBM] [Info] Start training from score -3.435136\n",
      "Accuracy Training: 0.9064673132812774\n",
      "F1 Training: 0.9057908429385462\n",
      "Accuracy Validation: 0.9043677388180424\n",
      "F1 Validation: 0.9035340777009959\n"
     ]
    }
   ],
   "source": [
    "# Solution:\n",
    "lightgbm5 = fit_assess_classifier(lgb.LGBMClassifier(n_estimators=50, num_leaves=25), X_train, y_train, X_val, y_val)"
   ]
  },
  {
   "cell_type": "markdown",
   "metadata": {
    "id": "s76GS-Rl0SpV"
   },
   "source": [
    "**[5.3]** Assess the performance of lightGBM with `n_estimators` = 100 and `num_leaves` = 15"
   ]
  },
  {
   "cell_type": "code",
   "execution_count": null,
   "metadata": {
    "id": "al9WkXFz0SxG"
   },
   "outputs": [],
   "source": [
    "# Placeholder for student's code (Python code)"
   ]
  },
  {
   "cell_type": "code",
   "execution_count": 19,
   "metadata": {
    "id": "BhalZZ3J0S6v",
    "tags": []
   },
   "outputs": [
    {
     "name": "stdout",
     "output_type": "stream",
     "text": [
      "[LightGBM] [Info] Auto-choosing row-wise multi-threading, the overhead of testing was 0.003777 seconds.\n",
      "You can set `force_row_wise=true` to remove the overhead.\n",
      "And if memory is not enough, you can set `force_col_wise=true`.\n",
      "[LightGBM] [Info] Total Bins 1426\n",
      "[LightGBM] [Info] Number of data points in the train set: 142795, number of used features: 24\n",
      "[LightGBM] [Info] Start training from score -1.205363\n",
      "[LightGBM] [Info] Start training from score -1.063080\n",
      "[LightGBM] [Info] Start training from score -1.130706\n",
      "[LightGBM] [Info] Start training from score -3.435136\n",
      "Accuracy Training: 0.9026646591267201\n",
      "F1 Training: 0.901728147653567\n",
      "Accuracy Validation: 0.9006911909914074\n",
      "F1 Validation: 0.8996304615720507\n"
     ]
    }
   ],
   "source": [
    "# Solution:\n",
    "lightgbm6 = fit_assess_classifier(lgb.LGBMClassifier(n_estimators=50, num_leaves=15), X_train, y_train, X_val, y_val)"
   ]
  },
  {
   "cell_type": "markdown",
   "metadata": {
    "id": "Z0oBRC_n0kjk"
   },
   "source": [
    "### 6. Hyperparameter tuning with `max_depth`"
   ]
  },
  {
   "cell_type": "markdown",
   "metadata": {
    "id": "aUQK_p6XldMI"
   },
   "source": [
    "**[6.1]** Assess the performance of lightGBM with `n_estimators` = 100, `num_leaves` = 15 and `max_depth` = 10"
   ]
  },
  {
   "cell_type": "code",
   "execution_count": null,
   "metadata": {
    "id": "__oxPYWH0krY"
   },
   "outputs": [],
   "source": [
    "# Placeholder for student's code (Python code)"
   ]
  },
  {
   "cell_type": "code",
   "execution_count": 20,
   "metadata": {
    "id": "uUwexOH3ldMI"
   },
   "outputs": [
    {
     "name": "stdout",
     "output_type": "stream",
     "text": [
      "[LightGBM] [Info] Auto-choosing row-wise multi-threading, the overhead of testing was 0.003709 seconds.\n",
      "You can set `force_row_wise=true` to remove the overhead.\n",
      "And if memory is not enough, you can set `force_col_wise=true`.\n",
      "[LightGBM] [Info] Total Bins 1426\n",
      "[LightGBM] [Info] Number of data points in the train set: 142795, number of used features: 24\n",
      "[LightGBM] [Info] Start training from score -1.205363\n",
      "[LightGBM] [Info] Start training from score -1.063080\n",
      "[LightGBM] [Info] Start training from score -1.130706\n",
      "[LightGBM] [Info] Start training from score -3.435136\n",
      "Accuracy Training: 0.9022234672082355\n",
      "F1 Training: 0.9012297315829294\n",
      "Accuracy Validation: 0.900544129078342\n",
      "F1 Validation: 0.8994275530192228\n"
     ]
    }
   ],
   "source": [
    "# Solution:\n",
    "lightgbm7 = fit_assess_classifier(lgb.LGBMClassifier(n_estimators=50, num_leaves=15, max_depth=10), X_train, y_train, X_val, y_val)"
   ]
  },
  {
   "cell_type": "markdown",
   "metadata": {
    "id": "dSmI_Gaw0mDB"
   },
   "source": [
    "**[6.2]** Assess the performance of lightGBM with `n_estimators` = 100, `num_leaves` = 15 and `max_depth` = 20"
   ]
  },
  {
   "cell_type": "code",
   "execution_count": null,
   "metadata": {
    "id": "585Uwlg50mKl"
   },
   "outputs": [],
   "source": [
    "# Placeholder for student's code (Python code)"
   ]
  },
  {
   "cell_type": "code",
   "execution_count": 21,
   "metadata": {
    "id": "Ri9a4owmldMI"
   },
   "outputs": [
    {
     "name": "stdout",
     "output_type": "stream",
     "text": [
      "[LightGBM] [Info] Auto-choosing row-wise multi-threading, the overhead of testing was 0.004652 seconds.\n",
      "You can set `force_row_wise=true` to remove the overhead.\n",
      "And if memory is not enough, you can set `force_col_wise=true`.\n",
      "[LightGBM] [Info] Total Bins 1426\n",
      "[LightGBM] [Info] Number of data points in the train set: 142795, number of used features: 24\n",
      "[LightGBM] [Info] Start training from score -1.205363\n",
      "[LightGBM] [Info] Start training from score -1.063080\n",
      "[LightGBM] [Info] Start training from score -1.130706\n",
      "[LightGBM] [Info] Start training from score -3.435136\n",
      "Accuracy Training: 0.9026646591267201\n",
      "F1 Training: 0.901728147653567\n",
      "Accuracy Validation: 0.9006911909914074\n",
      "F1 Validation: 0.8996304615720507\n"
     ]
    }
   ],
   "source": [
    "# Solution:\n",
    "lightgbm8 = fit_assess_classifier(lgb.LGBMClassifier(n_estimators=50, num_leaves=15, max_depth=20), X_train, y_train, X_val, y_val)"
   ]
  },
  {
   "cell_type": "markdown",
   "metadata": {
    "id": "OWThulQkldMI"
   },
   "source": [
    "**[6.3]** Assess the performance of lightGBM with `n_estimators` = 100, `num_leaves` = 15 and `max_depth` = 5"
   ]
  },
  {
   "cell_type": "code",
   "execution_count": null,
   "metadata": {
    "id": "A6upb-neldMI"
   },
   "outputs": [],
   "source": [
    "# Placeholder for student's code (Python code)"
   ]
  },
  {
   "cell_type": "code",
   "execution_count": 22,
   "metadata": {
    "id": "w5otO8F1ldMI"
   },
   "outputs": [
    {
     "name": "stdout",
     "output_type": "stream",
     "text": [
      "[LightGBM] [Info] Auto-choosing row-wise multi-threading, the overhead of testing was 0.003589 seconds.\n",
      "You can set `force_row_wise=true` to remove the overhead.\n",
      "And if memory is not enough, you can set `force_col_wise=true`.\n",
      "[LightGBM] [Info] Total Bins 1426\n",
      "[LightGBM] [Info] Number of data points in the train set: 142795, number of used features: 24\n",
      "[LightGBM] [Info] Start training from score -1.205363\n",
      "[LightGBM] [Info] Start training from score -1.063080\n",
      "[LightGBM] [Info] Start training from score -1.130706\n",
      "[LightGBM] [Info] Start training from score -3.435136\n",
      "Accuracy Training: 0.9001995868202668\n",
      "F1 Training: 0.8990694008335641\n",
      "Accuracy Validation: 0.8985482888295973\n",
      "F1 Validation: 0.8972936483310199\n"
     ]
    }
   ],
   "source": [
    "# Solution:\n",
    "lightgbm9 = fit_assess_classifier(lgb.LGBMClassifier(n_estimators=50, num_leaves=15, max_depth=5), X_train, y_train, X_val, y_val)"
   ]
  },
  {
   "cell_type": "code",
   "execution_count": 23,
   "metadata": {},
   "outputs": [
    {
     "data": {
      "text/plain": [
       "['../models/lightgbm_best.joblib']"
      ]
     },
     "execution_count": 23,
     "metadata": {},
     "output_type": "execute_result"
    }
   ],
   "source": [
    "# Solution:\n",
    "from joblib import dump\n",
    "\n",
    "dump(lightgbm9,  '../models/lightgbm_best.joblib')"
   ]
  },
  {
   "cell_type": "markdown",
   "metadata": {
    "id": "1yX0Ocg4hcZM"
   },
   "source": [
    "# 7.   Push changes"
   ]
  },
  {
   "cell_type": "markdown",
   "metadata": {
    "id": "3guOKU9gjrmp"
   },
   "source": [
    "**[7.1]** Add you changes to git staging area"
   ]
  },
  {
   "cell_type": "code",
   "execution_count": null,
   "metadata": {
    "id": "lKuRNeqAj0ym"
   },
   "outputs": [],
   "source": [
    "# Placeholder for student's code (command line)"
   ]
  },
  {
   "cell_type": "code",
   "execution_count": null,
   "metadata": {
    "id": "axcj-jS0jruy"
   },
   "outputs": [],
   "source": [
    "# Solution:\n",
    "git add ."
   ]
  },
  {
   "cell_type": "markdown",
   "metadata": {
    "id": "6nUK2dp_j67X"
   },
   "source": [
    "**[7.2]** Create the snapshot of your repository and add a description"
   ]
  },
  {
   "cell_type": "code",
   "execution_count": null,
   "metadata": {
    "id": "1-M-aS-Ij7EE"
   },
   "outputs": [],
   "source": [
    "# Placeholder for student's code (command line)"
   ]
  },
  {
   "cell_type": "code",
   "execution_count": null,
   "metadata": {
    "id": "zovhzXRxj7Il"
   },
   "outputs": [],
   "source": [
    "# Solution:\n",
    "git commit -m \"lightgbm\""
   ]
  },
  {
   "cell_type": "markdown",
   "metadata": {
    "id": "Y9FciIQZj7nX"
   },
   "source": [
    "**[7.3]** Push your snapshot to Github\n"
   ]
  },
  {
   "cell_type": "code",
   "execution_count": null,
   "metadata": {
    "id": "IR7i6D5hj7uO"
   },
   "outputs": [],
   "source": [
    "# Placeholder for student's code (command line)"
   ]
  },
  {
   "cell_type": "code",
   "execution_count": null,
   "metadata": {
    "id": "WaVAgJ4Aj7wi"
   },
   "outputs": [],
   "source": [
    "# Solution:\n",
    "git push"
   ]
  },
  {
   "cell_type": "markdown",
   "metadata": {
    "id": "8B98cSvWkB-x"
   },
   "source": [
    "**[7.4]** Go to Github and merge the branch after reviewing the code and fixing any conflict\n",
    "\n",
    "\n"
   ]
  },
  {
   "cell_type": "markdown",
   "metadata": {
    "id": "d7a6bwMniAs1"
   },
   "source": [
    "**[7.5]** Check out to the master branch"
   ]
  },
  {
   "cell_type": "code",
   "execution_count": null,
   "metadata": {
    "id": "eM9v_33XiA1I"
   },
   "outputs": [],
   "source": [
    "# Placeholder for student's code (command line)"
   ]
  },
  {
   "cell_type": "code",
   "execution_count": null,
   "metadata": {
    "id": "d6-AI0x7iA4M"
   },
   "outputs": [],
   "source": [
    "# Solution:\n",
    "git checkout master"
   ]
  },
  {
   "cell_type": "markdown",
   "metadata": {
    "id": "v98Ka9kNiBLw"
   },
   "source": [
    "**[7.6]** Pull the latest updates"
   ]
  },
  {
   "cell_type": "code",
   "execution_count": null,
   "metadata": {
    "id": "yNZb1PyEjIOP"
   },
   "outputs": [],
   "source": [
    "# Placeholder for student's code (command line)"
   ]
  },
  {
   "cell_type": "code",
   "execution_count": null,
   "metadata": {
    "id": "5TJAEYxPjIRS"
   },
   "outputs": [],
   "source": [
    "# Solution\n",
    "git pull"
   ]
  }
 ],
 "metadata": {
  "colab": {
   "provenance": []
  },
  "kernelspec": {
   "display_name": "Python 3 (ipykernel)",
   "language": "python",
   "name": "python3"
  },
  "language_info": {
   "codemirror_mode": {
    "name": "ipython",
    "version": 3
   },
   "file_extension": ".py",
   "mimetype": "text/x-python",
   "name": "python",
   "nbconvert_exporter": "python",
   "pygments_lexer": "ipython3",
   "version": "3.11.4"
  }
 },
 "nbformat": 4,
 "nbformat_minor": 4
}
